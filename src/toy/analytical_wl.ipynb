{
 "cells": [
  {
   "cell_type": "code",
   "execution_count": 1,
   "metadata": {},
   "outputs": [],
   "source": [
    "## Analytical Placement Toy ##"
   ]
  },
  {
   "cell_type": "code",
   "execution_count": 2,
   "metadata": {},
   "outputs": [],
   "source": [
    "# Step 0-1: Import Libraries\n",
    "import numpy as np\n",
    "import matplotlib.pyplot as plt\n",
    "from IPython.display import display, clear_output\n"
   ]
  },
  {
   "cell_type": "code",
   "execution_count": 3,
   "metadata": {},
   "outputs": [],
   "source": [
    "# Step 0-2: Define Parameters\n",
    "GAMMA = 1.0\n",
    "LR    = 0.5\n",
    "ITER  = 100"
   ]
  },
  {
   "cell_type": "code",
   "execution_count": 4,
   "metadata": {},
   "outputs": [],
   "source": [
    "class Netlist:\n",
    "    def __init__(self):\n",
    "        self.cells_name = []\n",
    "        self.cells_size = []\n",
    "        self.cells_pos  = [] # pos is center of cell\n",
    "        self.nets       = []"
   ]
  },
  {
   "cell_type": "code",
   "execution_count": 5,
   "metadata": {},
   "outputs": [],
   "source": [
    "# Step 2: Define Util Functions\n",
    "# Visualize Initial and Optimized Placements\n",
    "def plot_placement(ax, board_size, netlist, iteration, total_hpwl):\n",
    "    ax.clear()\n",
    "    for net in netlist.nets:\n",
    "        net_cells = netlist.cells_pos[net]\n",
    "        ax.plot(net_cells[:, 0], net_cells[:, 1], 'r--', alpha=0.5)  # Draw nets\n",
    "\n",
    "    for i, (pos, size) in enumerate(zip(netlist.cells_pos, netlist.cells_size)):\n",
    "        rect = plt.Rectangle(pos - size / 2, size[0], size[1], edgecolor='blue', facecolor='none')\n",
    "        ax.add_patch(rect)\n",
    "        ax.text(pos[0], pos[1], netlist.cells_name[i], ha='center', va='center', fontsize=8, color='blue')\n",
    "\n",
    "    ax.set_xlim(0, board_size)\n",
    "    ax.set_ylim(0, board_size)\n",
    "    ax.set_title(f'Placement at Iteration {iteration}, HPWL: {total_hpwl:.2f}')\n",
    "    ax.grid(True)\n",
    "# Initialize Placement\n",
    "def initialize_placement(num_cells, board_size):\n",
    "    np.random.seed(666)  # For reproducibility\n",
    "    cells = np.random.rand(num_cells, 2) * board_size  # Random positions within the canvas\n",
    "    return cells"
   ]
  },
  {
   "cell_type": "code",
   "execution_count": 6,
   "metadata": {},
   "outputs": [],
   "source": [
    "# Test Case\n",
    "# Assume we have 5 cells and 4 nets connecting them\n",
    "board_size = 32\n",
    "netlist = Netlist()\n",
    "netlist.cells_name = ['A', 'B', 'C', 'D', 'E', 'F']\n",
    "netlist.cells_size = np.array([[3,3], [3,3], [1,2], [2,1], [1,1], [1,1]])\n",
    "netlist.cells_pos = np.zeros((len(netlist.cells_name), 2))\n",
    "netlist.nets = np.array([[0, 1], [1, 2], [2, 3], [3, 4], [4, 5]])\n",
    "#nets = [[2,4,5],[0,1,3],[0,2,3,5],[0,1,2,3,4]]"
   ]
  },
  {
   "cell_type": "code",
   "execution_count": 7,
   "metadata": {},
   "outputs": [],
   "source": [
    "# Initialize random positions for cells (2D positions: x, y)\n",
    "np.random.seed(666)  # For reproducibility\n",
    "init_pos = initialize_placement(len(netlist.cells_name), board_size)"
   ]
  },
  {
   "cell_type": "markdown",
   "metadata": {},
   "source": [
    "### LSE Wirelength Model:  \n",
    "$\n",
    "W_{LSE}(\\mathbf{x}, \\mathbf{y}) = \\gamma \\sum_{e \\in E} \\left( \\ln \\sum_{v_k \\in e} \\exp(x_k / \\gamma) + \\ln \\sum_{v_k \\in e} \\exp(-x_k / \\gamma)  \n",
    "                                                                + \\ln \\sum_{v_k \\in e} \\exp(y_k / \\gamma) + \\ln \\sum_{v_k \\in e} \\exp(-y_k / \\gamma) \\right)\n",
    "$"
   ]
  },
  {
   "cell_type": "code",
   "execution_count": 8,
   "metadata": {},
   "outputs": [],
   "source": [
    "# Step 3: Define Objective Function\n",
    "# Wirelength as the Log-Sum-Exp HPWL \n",
    "def log_sum_exp_hpwl(positions, nets, gamma=1.0):\n",
    "    # wl_x = r * sum( ln(sum( exp(x_k/r) )) + ln(sum( exp(-x_k/r) )) )    ### max(x) + -min(x)   ### -min(x) = max(-x)\n",
    "    total_hpwl = 0.0\n",
    "    for net in nets:\n",
    "        xs = positions[net, 0]\n",
    "        ys = positions[net, 1]\n",
    "        wl_x = gamma * ( np.log(np.sum(np.exp(xs / gamma))) + np.log(np.sum(np.exp(-xs / gamma))) )\n",
    "        wl_y = gamma * ( np.log(np.sum(np.exp(ys / gamma))) + np.log(np.sum(np.exp(-ys / gamma))) )\n",
    "        total_hpwl += wl_x + wl_y\n",
    "    return total_hpwl\n",
    "def hpwl(positions, nets):\n",
    "    # HPWL_x = max(x) - min(x)\n",
    "    hpwl = 0\n",
    "    for cell_ids in nets: # for each net\n",
    "        x_coords = positions[cell_ids, 0]\n",
    "        y_coords = positions[cell_ids, 1]\n",
    "        hpwl += (x_coords.max() - x_coords.min()) + (y_coords.max() - y_coords.min())\n",
    "    return hpwl"
   ]
  },
  {
   "cell_type": "markdown",
   "metadata": {},
   "source": [
    "### Gradient Descent\n",
    "We have $LSE_{x}$\n",
    "$$\n",
    "\\small\n",
    "LSE_{x} = \\log \\sum e^{x_i / \\gamma} + \\log \\sum e^{-x_i / \\gamma}\n",
    "$$\n",
    "Partial derivative with respect to $x_i$ --> we can get the gradient to optimize WL for $x_i$\n",
    "$$\n",
    "\\small\n",
    "\\frac{\\partial \\text{LSE}_{x}}{\\partial x_i} = \\left( e^{x_i / \\gamma} \\Big/ \\sum e^{x_j / \\gamma} \\right) - \\left( e^{-x_i / \\gamma} \\Big/ \\sum e^{-x_j / \\gamma} \\right)\n",
    "$$"
   ]
  },
  {
   "cell_type": "code",
   "execution_count": 9,
   "metadata": {},
   "outputs": [],
   "source": [
    "# Step 4: Gradient Descent Optimization\n",
    "# Gradient descent to minimize objective function\n",
    "def calculate_wl_gradient(netlist, gamma=1.0):\n",
    "    cells = netlist.cells_pos; nets = netlist.nets\n",
    "    grads = np.zeros_like(cells) # gradient\n",
    "    for cell_ids in nets: # for each net\n",
    "        xs = cells[cell_ids, 0]\n",
    "        ys = cells[cell_ids, 1]\n",
    "        exp_xs = np.exp(xs / gamma)       # max(x)\n",
    "        exp_neg_xs = np.exp(-xs / gamma)  # -min(x)\n",
    "        exp_ys = np.exp(ys / gamma)       # max(y)\n",
    "        exp_neg_ys = np.exp(-ys / gamma)  # -min(y)\n",
    "\n",
    "        grad_xs = gamma * ( (exp_xs / np.sum(exp_xs)) - (exp_neg_xs / np.sum(exp_neg_xs)) ) # partial derivative for each x_i\n",
    "        grad_ys = gamma * ( (exp_ys / np.sum(exp_ys)) - (exp_neg_ys / np.sum(exp_neg_ys)) )\n",
    "\n",
    "        grads[cell_ids, 0] += grad_xs\n",
    "        grads[cell_ids, 1] += grad_ys\n",
    "    return grads\n",
    "# Update cell positions using gradient descent\n",
    "def update_positions(cells_pos, gradient, learning_rate=0.1):\n",
    "    cells_pos -= learning_rate * gradient\n",
    "    return cells_pos"
   ]
  },
  {
   "cell_type": "markdown",
   "metadata": {},
   "source": [
    "### Run"
   ]
  },
  {
   "cell_type": "code",
   "execution_count": null,
   "metadata": {},
   "outputs": [],
   "source": [
    "## Main analytical placement function ## \n",
    "# Initialize cells positions and parameters\n",
    "netlist.cells_pos = init_pos.copy()\n",
    "num_iter = ITER\n",
    "gamma = GAMMA\n",
    "step_size = LR\n",
    "\n",
    "fig, ax = plt.subplots(figsize=(5, 5))\n",
    "# Iteratively optimize placement\n",
    "for iter in range(num_iter):\n",
    "    # Calculate wirelength\n",
    "    total_hpwl = hpwl(netlist.cells_pos, netlist.nets)\n",
    "    total_lse = log_sum_exp_hpwl(netlist.cells_pos, netlist.nets, gamma=gamma)\n",
    "    # print(f'\\rIteration {iter}: LSE Wirelength = {total_hpwl:.2f}', end='')\n",
    "\n",
    "    # Calculate gradient\n",
    "    gradient = calculate_wl_gradient(netlist)\n",
    "    # Update positions\n",
    "    netlist.cells_pos = update_positions(netlist.cells_pos, gradient, learning_rate=step_size)\n",
    "\n",
    "    # Plot placement\n",
    "    plot_placement(ax, board_size, netlist, iter, total_hpwl)\n",
    "    display(fig)\n",
    "    clear_output(wait=True)\n",
    "    plt.pause(0.01)"
   ]
  },
  {
   "cell_type": "markdown",
   "metadata": {},
   "source": [
    "### Better Optimizer: CG (Conjugate Gradient) with Dynemic Step Size  "
   ]
  },
  {
   "cell_type": "code",
   "execution_count": 10,
   "metadata": {},
   "outputs": [],
   "source": [
    "# CG (conjugate gradient) with Dynemic Step Size\n",
    "# Compute β_k (Polak-Ribiere formula) with scaling to avoid overflow\n",
    "def compute_beta_polak_ribiere_xy(grad, g_prev):\n",
    "    \"\"\"\n",
    "    grad, g_prev: shape (N, 2)\n",
    "    returns: beta: shape (N, 2)，對 x/y 各自計算 β\n",
    "    \"\"\"\n",
    "    eps = 1e-10\n",
    "    # Compute maximum absolute value for scaling to avoid overflow\n",
    "    max_grad = np.maximum(np.max(np.abs(grad), axis=0), np.max(np.abs(g_prev), axis=0))\n",
    "    max_grad = np.where(max_grad < eps, eps, max_grad)\n",
    "    # Normalize the gradients\n",
    "    grad_scaled = grad / max_grad\n",
    "    g_prev_scaled = g_prev / max_grad\n",
    "    # Numerator: g_k^T (g_k - g_{k-1})\n",
    "    diff = grad_scaled - g_prev_scaled\n",
    "    numerator = grad_scaled * diff\n",
    "    # Denominator: g_{k-1}^T g_{k-1}\n",
    "    denominator = g_prev_scaled ** 2 + eps\n",
    "    denominator = np.where(denominator < eps, eps, denominator)  # avoid divide by 0\n",
    "    # Beta: Polak-Ribiere formula\n",
    "    beta = numerator / denominator  # element-wise (N,2)\n",
    "    return beta\n",
    "# Update cell positions\n",
    "def update_positions_cg(cells_pos, g_prev, d_prev, grad, step_size=1.0, is_fixed=None):\n",
    "    # (0) set movable mask\n",
    "    if is_fixed is None:\n",
    "        is_fixed = np.zeros(len(cells_pos), dtype=bool)\n",
    "    is_fixed = is_fixed.astype(bool)\n",
    "    movable_mask = ~is_fixed[:, None]  # shape: (N, 1)\n",
    "\n",
    "    # (1) We have gradient directions grad = g_k = ∇f(x_k)\n",
    "    # (2) Compute Polak-Ribiere parameter β_k (accelerate (sum) if gradient become better. slow down (subtract) if gradient become slower; go back (subtract very much) if gradient become bad)\n",
    "    # beta = grad * (grad - g_prev) / np.sum(g_prev**2, axis=0)\n",
    "    beta = compute_beta_polak_ribiere_xy(grad, g_prev)\n",
    "    # beta = np.clip(beta, 0, None)  # make sure β_k >= 0\n",
    "    # (3) Compute conjugate directions d = -grad + beta*d_prev\n",
    "    dir = -grad + beta * d_prev # d_prev.shape = (N, 2)\n",
    "    # (4) Compute step size alpha = s/norm(d)\n",
    "    alpha = step_size / np.linalg.norm(dir, axis=0)\n",
    "    # (5) update positions: x = x_prev + alpha*d\n",
    "    cells_pos += (alpha * dir) * movable_mask\n",
    "    return cells_pos, dir"
   ]
  },
  {
   "cell_type": "markdown",
   "metadata": {},
   "source": [
    "### Run"
   ]
  },
  {
   "cell_type": "code",
   "execution_count": 33,
   "metadata": {},
   "outputs": [
    {
     "data": {
      "image/png": "[encoded data removed]",
      "text/plain": [
       "<Figure size 360x360 with 1 Axes>"
      ]
     },
     "metadata": {},
     "output_type": "display_data"
    }
   ],
   "source": [
    "## Main analytical placement function ## \n",
    "# Initialize cells positions and parameters\n",
    "netlist.cells_pos = init_pos.copy()\n",
    "num_iter = ITER\n",
    "gamma = GAMMA\n",
    "step_size = board_size / 20\n",
    "\n",
    "fig, ax = plt.subplots(figsize=(5, 5), facecolor='white')\n",
    "\n",
    "g_prev = np.zeros_like(netlist.cells_pos)  # init grad = 0\n",
    "d_prev = np.zeros_like(netlist.cells_pos)  # init dir = 0\n",
    "total_lse_prev = 1000000000\n",
    "lse_history = []\n",
    "stop_iter = []\n",
    "early_stop = False\n",
    "# Iteratively optimize placement\n",
    "for iter in range(num_iter):\n",
    "    # Calculate wirelength\n",
    "    total_hpwl = hpwl(netlist.cells_pos, netlist.nets)\n",
    "    total_lse = log_sum_exp_hpwl(netlist.cells_pos, netlist.nets, gamma=gamma)\n",
    "    # print(f'\\rIteration {iter}: LSE Wirelength = {total_hpwl:.2f}', end='')\n",
    "\n",
    "    # Calculate gradient\n",
    "    gradient = calculate_wl_gradient(netlist)\n",
    "    # Update positions\n",
    "    netlist.cells_pos, dk = update_positions_cg(netlist.cells_pos, g_prev, d_prev, gradient, step_size=step_size)\n",
    "    if total_lse > total_lse_prev:\n",
    "        stop_iter.append(iter)\n",
    "    if iter > 50 and np.linalg.norm(gradient) > np.linalg.norm(g_prev):\n",
    "        # print(f'Converged at iteration {iter}')\n",
    "        early_stop = True\n",
    "    g_prev = gradient.copy(); d_prev = dk.copy()\n",
    "    total_lse_prev = total_lse\n",
    "    lse_history.append(total_lse)\n",
    "\n",
    "\n",
    "    # Plot placement\n",
    "    plot_placement(ax, board_size, netlist, iter, total_lse)\n",
    "    display(fig)\n",
    "    clear_output(wait=True)\n",
    "    plt.pause(0.01)\n",
    "\n",
    "    if early_stop:\n",
    "        break"
   ]
  },
  {
   "cell_type": "code",
   "execution_count": 32,
   "metadata": {},
   "outputs": [
    {
     "name": "stdout",
     "output_type": "stream",
     "text": [
      "[17, 21, 22, 23, 27, 28, 31, 32]\n",
      "0 91.47644198643356\n",
      "1 83.33509645342187\n",
      "2 76.06260046860199\n",
      "3 69.31928659038786\n",
      "4 63.10207500046253\n",
      "5 57.60028471401474\n",
      "6 53.10353586663016\n",
      "7 49.087303759356665\n",
      "8 45.396774600033844\n",
      "9 41.76841551698903\n",
      "10 38.196802657475864\n",
      "11 34.88328292827658\n",
      "12 32.016123775429115\n",
      "13 29.460351332426214\n",
      "14 27.465126123993542\n",
      "15 26.540590264723875\n",
      "16 26.290170792672328\n",
      "17 26.427832891195827\n",
      "18 25.36796395882314\n",
      "19 21.70648482805704\n",
      "20 20.316501903770337\n",
      "21 21.241609624252135\n",
      "22 23.630887188840084\n",
      "23 25.48426860368469\n",
      "24 24.886729008899138\n",
      "25 21.349306794545832\n",
      "26 20.22541649246321\n",
      "27 23.115745302197524\n",
      "28 23.407489825445328\n",
      "29 18.92595483570384\n",
      "30 15.678892307197813\n",
      "31 15.878455525727082\n",
      "32 18.147268477030657\n"
     ]
    }
   ],
   "source": [
    "print(stop_iter)\n",
    "for i, lse in enumerate(lse_history):\n",
    "    print(i, lse)\n"
   ]
  },
  {
   "cell_type": "code",
   "execution_count": null,
   "metadata": {},
   "outputs": [],
   "source": []
  }
 ],
 "metadata": {
  "kernelspec": {
   "display_name": "ntuplace3re",
   "language": "python",
   "name": "python3"
  },
  "language_info": {
   "codemirror_mode": {
    "name": "ipython",
    "version": 3
   },
   "file_extension": ".py",
   "mimetype": "text/x-python",
   "name": "python",
   "nbconvert_exporter": "python",
   "pygments_lexer": "ipython3",
   "version": "3.8.5"
  }
 },
 "nbformat": 4,
 "nbformat_minor": 2
}
