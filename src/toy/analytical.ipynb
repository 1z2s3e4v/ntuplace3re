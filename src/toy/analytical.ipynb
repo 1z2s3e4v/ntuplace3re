{
 "cells": [
  {
   "cell_type": "code",
   "execution_count": 1,
   "metadata": {},
   "outputs": [],
   "source": [
    "## Analytical Placement Toy ##"
   ]
  },
  {
   "cell_type": "code",
   "execution_count": 2,
   "metadata": {},
   "outputs": [],
   "source": [
    "# Step 0-1: Import Libraries\n",
    "import numpy as np\n",
    "import matplotlib.pyplot as plt\n",
    "from IPython.display import display, clear_output\n"
   ]
  },
  {
   "cell_type": "code",
   "execution_count": 21,
   "metadata": {},
   "outputs": [],
   "source": [
    "# Step 0-2: Define Parameters\n",
    "GAMMA = 1.0\n",
    "LR    = 0.5\n",
    "ITER  = 100"
   ]
  },
  {
   "cell_type": "code",
   "execution_count": 22,
   "metadata": {},
   "outputs": [],
   "source": [
    "class Netlist:\n",
    "    def __init__(self):\n",
    "        self.cells_name = []\n",
    "        self.cells_size = []\n",
    "        self.cells_pos  = [] # pos is center of cell\n",
    "        self.nets       = []"
   ]
  },
  {
   "cell_type": "code",
   "execution_count": 23,
   "metadata": {},
   "outputs": [],
   "source": [
    "# Test Case\n",
    "# Assume we have 5 cells and 4 nets connecting them\n",
    "board_size = 32\n",
    "netlist = Netlist()\n",
    "netlist.cells_name = ['A', 'B', 'C', 'D', 'E', 'F']\n",
    "netlist.cells_size = np.array([[3,3], [3,3], [1,2], [2,1], [1,1], [1,1]])\n",
    "netlist.cells_pos = np.zeros((len(netlist.cells_name), 2))\n",
    "netlist.nets = np.array([[0, 1], [1, 2], [2, 3], [3, 4], [4, 5]])\n",
    "#nets = [[2,4,5],[0,1,3],[0,2,3,5],[0,1,2,3,4]]"
   ]
  },
  {
   "cell_type": "code",
   "execution_count": 24,
   "metadata": {},
   "outputs": [],
   "source": [
    "# Step 2: Define Util Functions\n",
    "# Visualize Initial and Optimized Placements\n",
    "def plot_placement(ax, netlist, iteration, total_hpwl):\n",
    "    ax.clear()\n",
    "    for net in netlist.nets:\n",
    "        net_cells = netlist.cells_pos[net]\n",
    "        ax.plot(net_cells[:, 0], net_cells[:, 1], 'r--', alpha=0.5)  # Draw nets\n",
    "    ax.scatter(netlist.cells_pos[:, 0], netlist.cells_pos[:, 1], color='blue', s=50, label='Cells')\n",
    "    ax.set_xlim(0, board_size)\n",
    "    ax.set_ylim(0, board_size)\n",
    "    ax.set_title(f'Placement at Iteration {iteration}, HPWL: {total_hpwl:.2f}')\n",
    "    # ax.legend()\n",
    "    ax.grid(True)\n",
    "# Initialize Placement\n",
    "def initialize_placement(num_cells, board_size):\n",
    "    np.random.seed(666)  # For reproducibility\n",
    "    cells = np.random.rand(num_cells, 2) * board_size  # Random positions within the canvas\n",
    "    return cells"
   ]
  },
  {
   "cell_type": "code",
   "execution_count": 25,
   "metadata": {},
   "outputs": [],
   "source": [
    "# Initialize random positions for cells (2D positions: x, y)\n",
    "np.random.seed(666)  # For reproducibility\n",
    "init_pos = initialize_placement(len(netlist.cells_name), board_size)"
   ]
  },
  {
   "cell_type": "code",
   "execution_count": null,
   "metadata": {},
   "outputs": [],
   "source": [
    "# Step 3: Define Objective Function\n",
    "# Wirelength as the Log-Sum-Exp HPWL \n",
    "def log_sum_exp_hpwl(positions, nets, gamma=1.0):\n",
    "    # wl_x = r * sum( ln(sum( exp(x_k/r) )) - ln(sum( exp(-x_k/r) )) )    ### max(x) - min(x)\n",
    "    total_hpwl = 0.0\n",
    "    for net in nets:\n",
    "        xs = positions[net, 0]\n",
    "        ys = positions[net, 1]\n",
    "        wl_x = gamma * ( np.log(np.sum(np.exp(xs / gamma))) + np.log(np.sum(np.exp(-xs / gamma))) )\n",
    "        wl_y = gamma * ( np.log(np.sum(np.exp(ys / gamma))) + np.log(np.sum(np.exp(-ys / gamma))) )\n",
    "        total_hpwl += wl_x + wl_y\n",
    "    return total_hpwl\n",
    "def hpwl(positions, nets):\n",
    "    # HPWL_x = max(x) - min(x)\n",
    "    hpwl = 0\n",
    "    for cell_ids in nets: # for each net\n",
    "        x_coords = positions[cell_ids, 0]\n",
    "        y_coords = positions[cell_ids, 1]\n",
    "        hpwl += (x_coords.max() - x_coords.min()) + (y_coords.max() - y_coords.min())\n",
    "    return hpwl"
   ]
  },
  {
   "cell_type": "code",
   "execution_count": null,
   "metadata": {},
   "outputs": [],
   "source": [
    "# Step 4: Gradient Descent Optimization\n",
    "# Gradient descent to minimize objective function\n",
    "def calculate_wl_gradient(netlist, gamma=1.0):\n",
    "    cells = netlist.cells_pos; nets = netlist.nets\n",
    "    grad = np.zeros_like(cells) # gradient\n",
    "    for cell_ids in nets: # for each net\n",
    "        xs = cells[cell_ids, 0]\n",
    "        ys = cells[cell_ids, 1]\n",
    "        exp_xs = np.exp(xs / gamma)       # max(x)\n",
    "        exp_neg_xs = np.exp(-xs / gamma)  # -min(x)\n",
    "        exp_ys = np.exp(ys / gamma)       # max(y)\n",
    "        exp_neg_ys = np.exp(-ys / gamma)  # -min(y)\n",
    "\n",
    "        grad_xs = gamma * ( (exp_xs / np.sum(exp_xs)) - (exp_neg_xs / np.sum(exp_neg_xs)) ) # partial derivative for each x_i\n",
    "        grad_ys = gamma * ( (exp_ys / np.sum(exp_ys)) - (exp_neg_ys / np.sum(exp_neg_ys)) )\n",
    "\n",
    "        grad[cell_ids, 0] += grad_xs\n",
    "        grad[cell_ids, 1] += grad_ys\n",
    "    return grad\n",
    "# Update cell positions using gradient descent\n",
    "def update_positions(cells_pos, gradient, learning_rate=0.1):\n",
    "    cells_pos -= learning_rate * gradient\n",
    "    return cells_pos"
   ]
  },
  {
   "cell_type": "code",
   "execution_count": 28,
   "metadata": {},
   "outputs": [],
   "source": [
    "def plot_placement(ax, netlist, iteration, total_hpwl):\n",
    "    ax.clear()\n",
    "    for net in netlist.nets:\n",
    "        net_cells = netlist.cells_pos[net]\n",
    "        ax.plot(net_cells[:, 0], net_cells[:, 1], 'r--', alpha=0.5)  # Draw nets\n",
    "\n",
    "    for i, (pos, size) in enumerate(zip(netlist.cells_pos, netlist.cells_size)):\n",
    "        rect = plt.Rectangle(pos - size / 2, size[0], size[1], edgecolor='blue', facecolor='none')\n",
    "        ax.add_patch(rect)\n",
    "        ax.text(pos[0], pos[1], netlist.cells_name[i], ha='center', va='center', fontsize=8, color='blue')\n",
    "\n",
    "    ax.set_xlim(0, board_size)\n",
    "    ax.set_ylim(0, board_size)\n",
    "    ax.set_title(f'Placement at Iteration {iteration}, HPWL: {total_hpwl:.2f}')\n",
    "    ax.grid(True)"
   ]
  },
  {
   "cell_type": "code",
   "execution_count": 55,
   "metadata": {},
   "outputs": [
    {
     "data": {
      "image/png": "[encoded data removed]",
      "text/plain": [
       "<Figure size 500x500 with 1 Axes>"
      ]
     },
     "metadata": {},
     "output_type": "display_data"
    }
   ],
   "source": [
    "## Main analytical placement function ## \n",
    "# Initialize cells positions and parameters\n",
    "netlist.cells_pos = init_pos.copy()\n",
    "num_iter = ITER\n",
    "gamma = GAMMA\n",
    "step_size = LR\n",
    "\n",
    "fig, ax = plt.subplots(figsize=(5, 5))\n",
    "# Iteratively optimize placement\n",
    "for iter in range(num_iter):\n",
    "    # Calculate wirelength\n",
    "    total_hpwl = hpwl(netlist.cells_pos, netlist.nets)\n",
    "    total_lse = log_sum_exp_hpwl(netlist.cells_pos, netlist.nets, gamma=gamma)\n",
    "    # print(f'\\rIteration {iter}: LSE Wirelength = {total_hpwl:.2f}', end='')\n",
    "\n",
    "    # Calculate gradient\n",
    "    gradient = calculate_wl_gradient(netlist)\n",
    "    # Update positions\n",
    "    netlist.cells_pos = update_positions(netlist.cells_pos, gradient, learning_rate=step_size)\n",
    "\n",
    "    # Plot placement\n",
    "    plot_placement(ax, netlist, iter, total_hpwl)\n",
    "    display(fig)\n",
    "    clear_output(wait=True)\n",
    "    plt.pause(0.01)"
   ]
  },
  {
   "cell_type": "markdown",
   "metadata": {},
   "source": [
    "## Better Gradient Descent"
   ]
  },
  {
   "cell_type": "code",
   "execution_count": 43,
   "metadata": {},
   "outputs": [],
   "source": [
    "# CG (conjugate gradient) with Dynemic Step Size\n",
    "# Update cell positions\n",
    "def update_positions_cg(cells_pos, g_prev, d_prev, grad, step_size=1.0):\n",
    "    # (1) We have gradient directions grad = g_k = ∇f(x_k)\n",
    "    # (2) Compute Polak-Ribiere parameter β_k (make history grad have bigger ratio if gradient differ too much)\n",
    "    beta = np.sum(grad * (grad - g_prev), axis=1) / (np.sum(g_prev**2, axis=1) + 1e-10)\n",
    "    beta = np.clip(beta, 0, None)  # make sure β_k >= 0\n",
    "    # (3) Compute conjugate directions d = -grad + beta*d_prev\n",
    "    dir = -grad + beta[:, None] * d_prev # d_prev.shape = (N, 2)\n",
    "    # (4) Compute step size alpha = s/norm(d)\n",
    "    alpha = step_size / (np.linalg.norm(dir, axis=1) + 1e-10) # small d --> big step, big d --> small step (improve convergence)\n",
    "    # (5) update positions: x = x_prev + alpha*d\n",
    "    cells_pos += (alpha[:, None] * dir)\n",
    "    return cells_pos, dir"
   ]
  },
  {
   "cell_type": "code",
   "execution_count": 56,
   "metadata": {},
   "outputs": [
    {
     "data": {
      "image/png": "[encoded data removed]",
      "text/plain": [
       "<Figure size 500x500 with 1 Axes>"
      ]
     },
     "metadata": {},
     "output_type": "display_data"
    }
   ],
   "source": [
    "## Main analytical placement function ## \n",
    "# Initialize cells positions and parameters\n",
    "netlist.cells_pos = init_pos.copy()\n",
    "num_iter = ITER\n",
    "gamma = GAMMA\n",
    "step_size = board_size / 20\n",
    "\n",
    "fig, ax = plt.subplots(figsize=(5, 5))\n",
    "\n",
    "g_prev = np.zeros_like(netlist.cells_pos)  # init grad = 0\n",
    "d_prev = np.zeros_like(netlist.cells_pos)  # init dir = 0\n",
    "early_stop = False\n",
    "# Iteratively optimize placement\n",
    "for iter in range(num_iter):\n",
    "    # Calculate wirelength\n",
    "    total_hpwl = hpwl(netlist.cells_pos, netlist.nets)\n",
    "    total_lse = log_sum_exp_hpwl(netlist.cells_pos, netlist.nets, gamma=gamma)\n",
    "    # print(f'\\rIteration {iter}: LSE Wirelength = {total_hpwl:.2f}', end='')\n",
    "\n",
    "    # Calculate gradient\n",
    "    gradient = calculate_wl_gradient(netlist)\n",
    "    # Update positions\n",
    "    netlist.cells_pos, dk = update_positions_cg(netlist.cells_pos, g_prev, d_prev, gradient, step_size=step_size)\n",
    "    if iter > 15 and np.linalg.norm(gradient) > np.linalg.norm(g_prev):\n",
    "        # print(f'Converged at iteration {iter}')\n",
    "        early_stop = True\n",
    "    g_prev = gradient.copy(); d_prev = dk.copy()\n",
    "\n",
    "\n",
    "    # Plot placement\n",
    "    plot_placement(ax, netlist, iter, total_hpwl)\n",
    "    display(fig)\n",
    "    clear_output(wait=True)\n",
    "    plt.pause(0.01)\n",
    "\n",
    "    if early_stop:\n",
    "        break"
   ]
  },
  {
   "cell_type": "code",
   "execution_count": null,
   "metadata": {},
   "outputs": [],
   "source": []
  }
 ],
 "metadata": {
  "kernelspec": {
   "display_name": "ntuplace3re",
   "language": "python",
   "name": "python3"
  },
  "language_info": {
   "codemirror_mode": {
    "name": "ipython",
    "version": 3
   },
   "file_extension": ".py",
   "mimetype": "text/x-python",
   "name": "python",
   "nbconvert_exporter": "python",
   "pygments_lexer": "ipython3",
   "version": "3.8.5"
  }
 },
 "nbformat": 4,
 "nbformat_minor": 2
}
